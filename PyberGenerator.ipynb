{
 "cells": [
  {
   "cell_type": "code",
   "execution_count": 8,
   "metadata": {},
   "outputs": [],
   "source": [
    "# Environment Setup\n",
    "# ----------------------------------------------------------------\n",
    "# Dependencies\n",
    "import csv\n",
    "import pandas as pd\n",
    "import random\n",
    "import numpy as np\n",
    "import string\n",
    "#from faker import Faker\n",
    "#fake = Faker()\n",
    "\n",
    "# Output File Names\n",
    "file_output_city_csv = \"generated_data/city_data.csv\"\n",
    "file_output_rides_csv = \"generated_data/ride_data.csv\"\n",
    "\n",
    "# Generator Conditions (Change as needed)\n",
    "# ----------------------------------------------------------------\n",
    "rough_ride_count = 2500\n",
    "rough_driver_count = 950\n",
    "city_count = 120\n",
    "city_types = [\n",
    "    {\n",
    "        \"type\": \"Urban\",\n",
    "        \"fare_range\": (4, 45),\n",
    "        \"percent_of_rides\": 0.65,\n",
    "        \"percent_of_drivers\": 0.65,\n",
    "        \"percentage_of_cities\": 0.55\n",
    "    },\n",
    "    {\n",
    "        \"type\": \"Suburban\",\n",
    "        \"fare_range\": (12, 50),\n",
    "        \"percent_of_rides\": 0.25,\n",
    "        \"percent_of_drivers\": 0.25,\n",
    "        \"percentage_of_cities\": 0.35\n",
    "    },\n",
    "    {\n",
    "        \"type\": \"Rural\",\n",
    "        \"fare_range\": (10, 60),\n",
    "        \"percent_of_rides\": 0.05,\n",
    "        \"percent_of_drivers\": 0.10,\n",
    "        \"percentage_of_cities\": 0.15\n",
    "    }\n",
    "]"
   ]
  },
  {
   "cell_type": "code",
   "execution_count": 7,
   "metadata": {},
   "outputs": [
    {
     "ename": "NameError",
     "evalue": "name 'city_types' is not defined",
     "output_type": "error",
     "traceback": [
      "\u001b[1;31m---------------------------------------------------------------------------\u001b[0m",
      "\u001b[1;31mNameError\u001b[0m                                 Traceback (most recent call last)",
      "\u001b[1;32m<ipython-input-7-14bc00bf0d24>\u001b[0m in \u001b[0;36m<module>\u001b[1;34m()\u001b[0m\n\u001b[0;32m      6\u001b[0m \u001b[1;33m\u001b[0m\u001b[0m\n\u001b[0;32m      7\u001b[0m \u001b[1;31m# Calculate the driver count for each city type\u001b[0m\u001b[1;33m\u001b[0m\u001b[1;33m\u001b[0m\u001b[0m\n\u001b[1;32m----> 8\u001b[1;33m \u001b[1;32mfor\u001b[0m \u001b[0mcity_type\u001b[0m \u001b[1;32min\u001b[0m \u001b[0mcity_types\u001b[0m\u001b[1;33m:\u001b[0m\u001b[1;33m\u001b[0m\u001b[0m\n\u001b[0m\u001b[0;32m      9\u001b[0m     \u001b[0mcity_type\u001b[0m\u001b[1;33m[\u001b[0m\u001b[1;34m\"total_drivers\"\u001b[0m\u001b[1;33m]\u001b[0m \u001b[1;33m=\u001b[0m \u001b[0mint\u001b[0m\u001b[1;33m(\u001b[0m\u001b[0mcity_type\u001b[0m\u001b[1;33m[\u001b[0m\u001b[1;34m\"percent_of_drivers\"\u001b[0m\u001b[1;33m]\u001b[0m \u001b[1;33m*\u001b[0m \u001b[0mrough_driver_count\u001b[0m\u001b[1;33m)\u001b[0m\u001b[1;33m\u001b[0m\u001b[0m\n\u001b[0;32m     10\u001b[0m     \u001b[0mcity_type\u001b[0m\u001b[1;33m[\u001b[0m\u001b[1;34m\"city_count\"\u001b[0m\u001b[1;33m]\u001b[0m \u001b[1;33m=\u001b[0m \u001b[0mint\u001b[0m\u001b[1;33m(\u001b[0m\u001b[0mcity_type\u001b[0m\u001b[1;33m[\u001b[0m\u001b[1;34m\"percentage_of_cities\"\u001b[0m\u001b[1;33m]\u001b[0m \u001b[1;33m*\u001b[0m \u001b[0mcity_count\u001b[0m\u001b[1;33m)\u001b[0m\u001b[1;33m\u001b[0m\u001b[0m\n",
      "\u001b[1;31mNameError\u001b[0m: name 'city_types' is not defined"
     ]
    }
   ],
   "source": [
    "# Create a CSV of city data \n",
    "# City | Driver_Count | Type\n",
    "\n",
    "# List will hold the final set of city data \n",
    "cities_data = []\n",
    "\n",
    "# Calculate the driver count for each city type\n",
    "for city_type in city_types:\n",
    "    city_type[\"total_drivers\"] = int(city_type[\"percent_of_drivers\"] * rough_driver_count)\n",
    "    city_type[\"city_count\"] = int(city_type[\"percentage_of_cities\"] * city_count)\n",
    "    \n",
    "    # Use the driver count to create a set number of fake cities each given a random number of drivers\n",
    "    for city in range(city_type[\"city_count\"]):\n",
    "        cities_data.append({\"city\": fake.city(), \n",
    "                       \"type\": city_type[\"type\"], \n",
    "                       \"driver_count\": np.random.randint(1, city_type[\"total_drivers\"] * 0.12)})\n",
    "\n",
    "\n",
    "# Convert the city data into a DataFrame    \n",
    "cities_pd = pd.DataFrame(cities_data)\n",
    "cities\n",
    "\n",
    "# Export the city data to a csv \n",
    "cities_pd.to_csv(file_output_city_csv, index=False)\n",
    "\n",
    "cities_pd.head()"
   ]
  },
  {
   "cell_type": "code",
   "execution_count": 4,
   "metadata": {},
   "outputs": [
    {
     "ename": "NameError",
     "evalue": "name 'city_types' is not defined",
     "output_type": "error",
     "traceback": [
      "\u001b[1;31m---------------------------------------------------------------------------\u001b[0m",
      "\u001b[1;31mNameError\u001b[0m                                 Traceback (most recent call last)",
      "\u001b[1;32m<ipython-input-4-6da666a647ea>\u001b[0m in \u001b[0;36m<module>\u001b[1;34m()\u001b[0m\n\u001b[0;32m      6\u001b[0m \u001b[1;33m\u001b[0m\u001b[0m\n\u001b[0;32m      7\u001b[0m \u001b[1;31m# Loop through all city types\u001b[0m\u001b[1;33m\u001b[0m\u001b[1;33m\u001b[0m\u001b[0m\n\u001b[1;32m----> 8\u001b[1;33m \u001b[1;32mfor\u001b[0m \u001b[0mcity_type\u001b[0m \u001b[1;32min\u001b[0m \u001b[0mcity_types\u001b[0m\u001b[1;33m:\u001b[0m\u001b[1;33m\u001b[0m\u001b[0m\n\u001b[0m\u001b[0;32m      9\u001b[0m \u001b[1;33m\u001b[0m\u001b[0m\n\u001b[0;32m     10\u001b[0m     \u001b[1;31m# Determine the total rides for each city type\u001b[0m\u001b[1;33m\u001b[0m\u001b[1;33m\u001b[0m\u001b[0m\n",
      "\u001b[1;31mNameError\u001b[0m: name 'city_types' is not defined"
     ]
    }
   ],
   "source": [
    "# Create a CSV of ride data\n",
    "# Ride ID | City | Date | Fare | \n",
    "\n",
    "# List will hold all the final set of rides\n",
    "rides = []\n",
    "\n",
    "# Loop through all city types\n",
    "for city_type in city_types:\n",
    "    \n",
    "    # Determine the total rides for each city type\n",
    "    city_type[\"total_rides\"] = int(city_type[\"percent_of_rides\"] * rough_ride_count)\n",
    "    \n",
    "    # Choose a city from that city type at random to distribute the rides across cities\n",
    "    for ride in range(city_type[\"total_rides\"]):\n",
    "        \n",
    "        # Create a list of dictionaries for each ride\n",
    "        rides.append({\"ride_id\": fake.ean13(), \n",
    "                      \"date\": fake.date_time_this_year(), \n",
    "                      \"city\": np.random.choice(cities_pd[cities_pd[\"type\"] == city_type[\"type\"]][\"city\"]), \n",
    "                      \"fare\": round(np.random.uniform(city_type[\"fare_range\"][0], city_type[\"fare_range\"][1]), 2)})\n",
    "\n",
    "# Convert the ride list into a data frame\n",
    "rides_pd = pd.DataFrame(rides)\n",
    "\n",
    "# Export the ride data to a csv\n",
    "rides_pd.to_csv(file_output_rides_csv, index=False)\n",
    "\n",
    "rides_pd.head()"
   ]
  },
  {
   "cell_type": "code",
   "execution_count": null,
   "metadata": {
    "collapsed": true
   },
   "outputs": [],
   "source": [
    "rides_pd.count()"
   ]
  },
  {
   "cell_type": "code",
   "execution_count": null,
   "metadata": {
    "collapsed": true
   },
   "outputs": [],
   "source": []
  }
 ],
 "metadata": {
  "anaconda-cloud": {},
  "kernelspec": {
   "display_name": "Python 3",
   "language": "python",
   "name": "python3"
  },
  "language_info": {
   "codemirror_mode": {
    "name": "ipython",
    "version": 3
   },
   "file_extension": ".py",
   "mimetype": "text/x-python",
   "name": "python",
   "nbconvert_exporter": "python",
   "pygments_lexer": "ipython3",
   "version": "3.6.3"
  }
 },
 "nbformat": 4,
 "nbformat_minor": 1
}
