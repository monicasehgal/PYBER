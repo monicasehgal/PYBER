{
 "cells": [
  {
   "cell_type": "code",
   "execution_count": 3,
   "metadata": {},
   "outputs": [
    {
     "ename": "NameError",
     "evalue": "name 'fake' is not defined",
     "output_type": "error",
     "traceback": [
      "\u001b[1;31m---------------------------------------------------------------------------\u001b[0m",
      "\u001b[1;31mNameError\u001b[0m                                 Traceback (most recent call last)",
      "\u001b[1;32m<ipython-input-3-9a2afd8dde8e>\u001b[0m in \u001b[0;36m<module>\u001b[1;34m()\u001b[0m\n\u001b[0;32m     56\u001b[0m     \u001b[1;31m# Use the driver count to create a set number of fake cities each given a random number of drivers\u001b[0m\u001b[1;33m\u001b[0m\u001b[1;33m\u001b[0m\u001b[0m\n\u001b[0;32m     57\u001b[0m     \u001b[1;32mfor\u001b[0m \u001b[0mcity\u001b[0m \u001b[1;32min\u001b[0m \u001b[0mrange\u001b[0m\u001b[1;33m(\u001b[0m\u001b[0mcity_type\u001b[0m\u001b[1;33m[\u001b[0m\u001b[1;34m\"city_count\"\u001b[0m\u001b[1;33m]\u001b[0m\u001b[1;33m)\u001b[0m\u001b[1;33m:\u001b[0m\u001b[1;33m\u001b[0m\u001b[0m\n\u001b[1;32m---> 58\u001b[1;33m         cities_data.append({\"city\": fake.city(), \n\u001b[0m\u001b[0;32m     59\u001b[0m                        \u001b[1;34m\"type\"\u001b[0m\u001b[1;33m:\u001b[0m \u001b[0mcity_type\u001b[0m\u001b[1;33m[\u001b[0m\u001b[1;34m\"type\"\u001b[0m\u001b[1;33m]\u001b[0m\u001b[1;33m,\u001b[0m\u001b[1;33m\u001b[0m\u001b[0m\n\u001b[0;32m     60\u001b[0m                        \"driver_count\": np.random.randint(1, city_type[\"total_drivers\"] * 0.12)})\n",
      "\u001b[1;31mNameError\u001b[0m: name 'fake' is not defined"
     ]
    }
   ],
   "source": [
    "# Environment Setup\n",
    "# ----------------------------------------------------------------\n",
    "# Dependencies\n",
    "import csv\n",
    "import pandas as pd\n",
    "import random\n",
    "import numpy as np\n",
    "import string\n",
    "#from faker import Faker\n",
    "#fake = Faker()\n",
    "\n",
    "# Output File Names\n",
    "file_output_city_csv = \"generated_data/city_data.csv\"\n",
    "file_output_rides_csv = \"generated_data/ride_data.csv\"\n",
    "\n",
    "# Generator Conditions (Change as needed)\n",
    "# ----------------------------------------------------------------\n",
    "rough_ride_count = 2500\n",
    "rough_driver_count = 950\n",
    "city_count = 120\n",
    "city_types = [\n",
    "    {\n",
    "        \"type\": \"Urban\",\n",
    "        \"fare_range\": (4, 45),\n",
    "        \"percent_of_rides\": 0.65,\n",
    "        \"percent_of_drivers\": 0.65,\n",
    "        \"percentage_of_cities\": 0.55\n",
    "    },\n",
    "    {\n",
    "        \"type\": \"Suburban\",\n",
    "        \"fare_range\": (12, 50),\n",
    "        \"percent_of_rides\": 0.25,\n",
    "        \"percent_of_drivers\": 0.25,\n",
    "        \"percentage_of_cities\": 0.35\n",
    "    },\n",
    "    {\n",
    "        \"type\": \"Rural\",\n",
    "        \"fare_range\": (10, 60),\n",
    "        \"percent_of_rides\": 0.05,\n",
    "        \"percent_of_drivers\": 0.10,\n",
    "        \"percentage_of_cities\": 0.15\n",
    "    }\n",
    "]\n",
    "\n",
    "# Create a CSV of city data \n",
    "# City | Driver_Count | Type\n",
    "\n",
    "# List will hold the final set of city data \n",
    "cities_data = []\n",
    "\n",
    "# Calculate the driver count for each city type\n",
    "for city_type in city_types:\n",
    "    city_type[\"total_drivers\"] = int(city_type[\"percent_of_drivers\"] * rough_driver_count)\n",
    "    city_type[\"city_count\"] = int(city_type[\"percentage_of_cities\"] * city_count)\n",
    "    \n",
    "    # Use the driver count to create a set number of fake cities each given a random number of drivers\n",
    "    for city in range(city_type[\"city_count\"]):\n",
    "        cities_data.append({\"city\": fake.city(), \n",
    "                       \"type\": city_type[\"type\"], \n",
    "                       \"driver_count\": np.random.randint(1, city_type[\"total_drivers\"] * 0.12)})\n",
    "\n",
    "\n",
    "# Convert the city data into a DataFrame    \n",
    "cities_pd = pd.DataFrame(cities_data)\n",
    "cities\n",
    "\n",
    "# Export the city data to a csv \n",
    "cities_pd.to_csv(file_output_city_csv, index=False)\n",
    "\n",
    "cities_pd.head()"
   ]
  },
  {
   "cell_type": "code",
   "execution_count": null,
   "metadata": {
    "collapsed": true
   },
   "outputs": [],
   "source": []
  }
 ],
 "metadata": {
  "kernelspec": {
   "display_name": "Python 3",
   "language": "python",
   "name": "python3"
  },
  "language_info": {
   "codemirror_mode": {
    "name": "ipython",
    "version": 3
   },
   "file_extension": ".py",
   "mimetype": "text/x-python",
   "name": "python",
   "nbconvert_exporter": "python",
   "pygments_lexer": "ipython3",
   "version": "3.6.3"
  }
 },
 "nbformat": 4,
 "nbformat_minor": 2
}
