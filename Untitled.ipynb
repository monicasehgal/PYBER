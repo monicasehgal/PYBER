{
 "cells": [
  {
   "cell_type": "code",
   "execution_count": 4,
   "metadata": {},
   "outputs": [
    {
     "ename": "ModuleNotFoundError",
     "evalue": "No module named 'faker'",
     "output_type": "error",
     "traceback": [
      "\u001b[1;31m---------------------------------------------------------------------------\u001b[0m",
      "\u001b[1;31mModuleNotFoundError\u001b[0m                       Traceback (most recent call last)",
      "\u001b[1;32m<ipython-input-4-3eee936b48ea>\u001b[0m in \u001b[0;36m<module>\u001b[1;34m()\u001b[0m\n\u001b[0;32m      5\u001b[0m \u001b[1;32mimport\u001b[0m \u001b[0mstring\u001b[0m\u001b[1;33m\u001b[0m\u001b[0m\n\u001b[0;32m      6\u001b[0m \u001b[1;32mfrom\u001b[0m \u001b[0mjson\u001b[0m \u001b[1;32mimport\u001b[0m \u001b[0mscanner\u001b[0m\u001b[1;33m\u001b[0m\u001b[0m\n\u001b[1;32m----> 7\u001b[1;33m \u001b[1;32mfrom\u001b[0m \u001b[0mfaker\u001b[0m \u001b[1;32mimport\u001b[0m \u001b[0mFaker\u001b[0m\u001b[1;33m\u001b[0m\u001b[0m\n\u001b[0m\u001b[0;32m      8\u001b[0m \u001b[0mscan\u001b[0m \u001b[1;33m=\u001b[0m \u001b[0mscanner\u001b[0m\u001b[1;33m(\u001b[0m\u001b[1;33m)\u001b[0m\u001b[1;33m\u001b[0m\u001b[0m\n\u001b[0;32m      9\u001b[0m \u001b[0mfake\u001b[0m \u001b[1;33m=\u001b[0m \u001b[0mFaker\u001b[0m\u001b[1;33m(\u001b[0m\u001b[1;33m)\u001b[0m\u001b[1;33m\u001b[0m\u001b[0m\n",
      "\u001b[1;31mModuleNotFoundError\u001b[0m: No module named 'faker'"
     ]
    }
   ],
   "source": [
    "import csv\n",
    "import pandas as pd\n",
    "import random\n",
    "import numpy as np\n",
    "import string\n",
    "from json import scanner\n",
    "from faker import Faker\n",
    "scan = scanner()\n",
    "fake = Faker()\n",
    "\n",
    "# Output File Names\n",
    "file_output_city_csv = \"generated_data/city_data.csv\"\n",
    "file_output_rides_csv = \"generated_data/ride_data.csv\"\n",
    "\n",
    "# Generator Conditions (Change as needed)\n",
    "# ----------------------------------------------------------------\n",
    "rough_ride_count = 2500\n",
    "rough_driver_count = 950\n",
    "city_count = 120\n",
    "city_types = [\n",
    "    {\n",
    "        \"type\": \"Urban\",\n",
    "        \"fare_range\": (4, 45),\n",
    "        \"percent_of_rides\": 0.65,\n",
    "        \"percent_of_drivers\": 0.65,\n",
    "        \"percentage_of_cities\": 0.55\n",
    "    },\n",
    "    {\n",
    "        \"type\": \"Suburban\",\n",
    "        \"fare_range\": (12, 50),\n",
    "        \"percent_of_rides\": 0.25,\n",
    "        \"percent_of_drivers\": 0.25,\n",
    "        \"percentage_of_cities\": 0.35\n",
    "    },\n",
    "    {\n",
    "        \"type\": \"Rural\",\n",
    "        \"fare_range\": (10, 60),\n",
    "        \"percent_of_rides\": 0.05,\n",
    "        \"percent_of_drivers\": 0.10,\n",
    "        \"percentage_of_cities\": 0.15\n",
    "    }\n",
    "]"
   ]
  },
  {
   "cell_type": "code",
   "execution_count": null,
   "metadata": {
    "collapsed": true
   },
   "outputs": [],
   "source": []
  },
  {
   "cell_type": "code",
   "execution_count": null,
   "metadata": {
    "collapsed": true
   },
   "outputs": [],
   "source": []
  },
  {
   "cell_type": "code",
   "execution_count": null,
   "metadata": {
    "collapsed": true
   },
   "outputs": [],
   "source": []
  }
 ],
 "metadata": {
  "kernelspec": {
   "display_name": "Python 3",
   "language": "python",
   "name": "python3"
  },
  "language_info": {
   "codemirror_mode": {
    "name": "ipython",
    "version": 3
   },
   "file_extension": ".py",
   "mimetype": "text/x-python",
   "name": "python",
   "nbconvert_exporter": "python",
   "pygments_lexer": "ipython3",
   "version": "3.6.3"
  }
 },
 "nbformat": 4,
 "nbformat_minor": 2
}
